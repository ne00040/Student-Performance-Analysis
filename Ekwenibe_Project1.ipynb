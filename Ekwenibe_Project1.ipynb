{
 "cells": [
  {
   "cell_type": "code",
   "execution_count": null,
   "id": "b747a151-48bf-4b8b-8941-deff560fa8d1",
   "metadata": {},
   "outputs": [],
   "source": [
    "#Project 1: Student Performance Analysis\n",
    "\n",
    "Author: Isabel Ekwenibe\n",
    "GitHub Repository Link: https://github.com/ne00040/Student-Performance-Analysis"
   ]
  },
  {
   "cell_type": "code",
   "execution_count": null,
   "id": "79d7145a-00bc-4fa3-8630-85da8341e60c",
   "metadata": {},
   "outputs": [],
   "source": [
    "## 1. Problem statement\n",
    "\n",
    "Dataset: Students Performance in Exams (Kaggle)\n",
    "- Link: https://www.kaggle.com/datasets/spscientist/students-performance-in-exams/data \n",
    "- Rows & Columns: 1000 rows, 8 columns \n",
    "- Features: gender, race/ethnicity, parental level of education, lunch, test preparation course, math score, reading score, writing score  \n",
    "\n",
    "Main Question: \n",
    "- What factors influence students’ academic performance in exams?\n",
    "\n",
    "Sub-Questions: \n",
    "1. Do students who complete the test preparation course perform better on exams compared to those who do not?  \n",
    "2. Are there differences in performance between male and female students across math, reading, and writing?  \n",
    "3. How does parental level of education relate to student performance?   "
   ]
  },
  {
   "cell_type": "code",
   "execution_count": 61,
   "id": "8203f25a-5206-42b3-915e-9e3da0cbdc39",
   "metadata": {},
   "outputs": [
    {
     "name": "stdout",
     "output_type": "stream",
     "text": [
      "Shape (rows, columns): (1000, 8)\n",
      "\n",
      "Column names: ['gender', 'race/ethnicity', 'parental level of education', 'lunch', 'test preparation course', 'math score', 'reading score', 'writing score']\n"
     ]
    },
    {
     "data": {
      "text/html": [
       "<div>\n",
       "<style scoped>\n",
       "    .dataframe tbody tr th:only-of-type {\n",
       "        vertical-align: middle;\n",
       "    }\n",
       "\n",
       "    .dataframe tbody tr th {\n",
       "        vertical-align: top;\n",
       "    }\n",
       "\n",
       "    .dataframe thead th {\n",
       "        text-align: right;\n",
       "    }\n",
       "</style>\n",
       "<table border=\"1\" class=\"dataframe\">\n",
       "  <thead>\n",
       "    <tr style=\"text-align: right;\">\n",
       "      <th></th>\n",
       "      <th>gender</th>\n",
       "      <th>race/ethnicity</th>\n",
       "      <th>parental level of education</th>\n",
       "      <th>lunch</th>\n",
       "      <th>test preparation course</th>\n",
       "      <th>math score</th>\n",
       "      <th>reading score</th>\n",
       "      <th>writing score</th>\n",
       "    </tr>\n",
       "  </thead>\n",
       "  <tbody>\n",
       "    <tr>\n",
       "      <th>0</th>\n",
       "      <td>female</td>\n",
       "      <td>group B</td>\n",
       "      <td>bachelor's degree</td>\n",
       "      <td>standard</td>\n",
       "      <td>none</td>\n",
       "      <td>72</td>\n",
       "      <td>72</td>\n",
       "      <td>74</td>\n",
       "    </tr>\n",
       "    <tr>\n",
       "      <th>1</th>\n",
       "      <td>female</td>\n",
       "      <td>group C</td>\n",
       "      <td>some college</td>\n",
       "      <td>standard</td>\n",
       "      <td>completed</td>\n",
       "      <td>69</td>\n",
       "      <td>90</td>\n",
       "      <td>88</td>\n",
       "    </tr>\n",
       "    <tr>\n",
       "      <th>2</th>\n",
       "      <td>female</td>\n",
       "      <td>group B</td>\n",
       "      <td>master's degree</td>\n",
       "      <td>standard</td>\n",
       "      <td>none</td>\n",
       "      <td>90</td>\n",
       "      <td>95</td>\n",
       "      <td>93</td>\n",
       "    </tr>\n",
       "    <tr>\n",
       "      <th>3</th>\n",
       "      <td>male</td>\n",
       "      <td>group A</td>\n",
       "      <td>associate's degree</td>\n",
       "      <td>free/reduced</td>\n",
       "      <td>none</td>\n",
       "      <td>47</td>\n",
       "      <td>57</td>\n",
       "      <td>44</td>\n",
       "    </tr>\n",
       "    <tr>\n",
       "      <th>4</th>\n",
       "      <td>male</td>\n",
       "      <td>group C</td>\n",
       "      <td>some college</td>\n",
       "      <td>standard</td>\n",
       "      <td>none</td>\n",
       "      <td>76</td>\n",
       "      <td>78</td>\n",
       "      <td>75</td>\n",
       "    </tr>\n",
       "  </tbody>\n",
       "</table>\n",
       "</div>"
      ],
      "text/plain": [
       "   gender race/ethnicity parental level of education         lunch  \\\n",
       "0  female        group B           bachelor's degree      standard   \n",
       "1  female        group C                some college      standard   \n",
       "2  female        group B             master's degree      standard   \n",
       "3    male        group A          associate's degree  free/reduced   \n",
       "4    male        group C                some college      standard   \n",
       "\n",
       "  test preparation course  math score  reading score  writing score  \n",
       "0                    none          72             72             74  \n",
       "1               completed          69             90             88  \n",
       "2                    none          90             95             93  \n",
       "3                    none          47             57             44  \n",
       "4                    none          76             78             75  "
      ]
     },
     "execution_count": 61,
     "metadata": {},
     "output_type": "execute_result"
    }
   ],
   "source": [
    "import pandas as pd\n",
    "import matplotlib.pyplot as plt\n",
    "\n",
    "df = pd.read_csv(\"StudentsPerformance.csv\")\n",
    "\n",
    "print(\"Shape (rows, columns):\", df.shape)\n",
    "print(\"\\nColumn names:\", df.columns.tolist())\n",
    "\n",
    "df.head()"
   ]
  },
  {
   "cell_type": "code",
   "execution_count": 21,
   "id": "1b64afee-ea86-41d3-8c35-f9c6d6de7b2d",
   "metadata": {},
   "outputs": [],
   "source": [
    "## 2. Data Cleaning\n",
    "\n",
    "Steps:\n",
    "1. Dropped unwanted features: `lunch` and `race/ethnicity` as it not needed for my analysis.  \n",
    "2. Checked for missing values.  \n",
    "3. Checked for duplicates.  \n",
    "4. Verified the data types of all columns.  \n",
    "5. For categorical variables, checked for inconsistent inputs.  \n",
    "6. For numeric variables, checked for outliers and removed/replaced if necessary.  \n",
    "7. Created helper columns:  \n",
    "   - `total_score` = math + reading + writing  \n",
    "   - `avg_score` = average of the three exam scores \n"
   ]
  },
  {
   "cell_type": "code",
   "execution_count": 62,
   "id": "03dd1dc1-473a-413f-b0f9-67322e623127",
   "metadata": {},
   "outputs": [
    {
     "data": {
      "text/html": [
       "<div>\n",
       "<style scoped>\n",
       "    .dataframe tbody tr th:only-of-type {\n",
       "        vertical-align: middle;\n",
       "    }\n",
       "\n",
       "    .dataframe tbody tr th {\n",
       "        vertical-align: top;\n",
       "    }\n",
       "\n",
       "    .dataframe thead th {\n",
       "        text-align: right;\n",
       "    }\n",
       "</style>\n",
       "<table border=\"1\" class=\"dataframe\">\n",
       "  <thead>\n",
       "    <tr style=\"text-align: right;\">\n",
       "      <th></th>\n",
       "      <th>gender</th>\n",
       "      <th>parental level of education</th>\n",
       "      <th>test preparation course</th>\n",
       "      <th>math score</th>\n",
       "      <th>reading score</th>\n",
       "      <th>writing score</th>\n",
       "    </tr>\n",
       "  </thead>\n",
       "  <tbody>\n",
       "    <tr>\n",
       "      <th>0</th>\n",
       "      <td>female</td>\n",
       "      <td>bachelor's degree</td>\n",
       "      <td>none</td>\n",
       "      <td>72</td>\n",
       "      <td>72</td>\n",
       "      <td>74</td>\n",
       "    </tr>\n",
       "    <tr>\n",
       "      <th>1</th>\n",
       "      <td>female</td>\n",
       "      <td>some college</td>\n",
       "      <td>completed</td>\n",
       "      <td>69</td>\n",
       "      <td>90</td>\n",
       "      <td>88</td>\n",
       "    </tr>\n",
       "    <tr>\n",
       "      <th>2</th>\n",
       "      <td>female</td>\n",
       "      <td>master's degree</td>\n",
       "      <td>none</td>\n",
       "      <td>90</td>\n",
       "      <td>95</td>\n",
       "      <td>93</td>\n",
       "    </tr>\n",
       "    <tr>\n",
       "      <th>3</th>\n",
       "      <td>male</td>\n",
       "      <td>associate's degree</td>\n",
       "      <td>none</td>\n",
       "      <td>47</td>\n",
       "      <td>57</td>\n",
       "      <td>44</td>\n",
       "    </tr>\n",
       "    <tr>\n",
       "      <th>4</th>\n",
       "      <td>male</td>\n",
       "      <td>some college</td>\n",
       "      <td>none</td>\n",
       "      <td>76</td>\n",
       "      <td>78</td>\n",
       "      <td>75</td>\n",
       "    </tr>\n",
       "  </tbody>\n",
       "</table>\n",
       "</div>"
      ],
      "text/plain": [
       "   gender parental level of education test preparation course  math score  \\\n",
       "0  female           bachelor's degree                    none          72   \n",
       "1  female                some college               completed          69   \n",
       "2  female             master's degree                    none          90   \n",
       "3    male          associate's degree                    none          47   \n",
       "4    male                some college                    none          76   \n",
       "\n",
       "   reading score  writing score  \n",
       "0             72             74  \n",
       "1             90             88  \n",
       "2             95             93  \n",
       "3             57             44  \n",
       "4             78             75  "
      ]
     },
     "execution_count": 62,
     "metadata": {},
     "output_type": "execute_result"
    }
   ],
   "source": [
    "### 2.1 Drop unwanted features\n",
    "\n",
    "df = df.drop(columns=[\"lunch\", \"race/ethnicity\"])\n",
    "\n",
    "df.head()"
   ]
  },
  {
   "cell_type": "code",
   "execution_count": 55,
   "id": "0eb26502-42f2-4930-8471-85e1d91ddeb2",
   "metadata": {},
   "outputs": [
    {
     "data": {
      "text/plain": [
       "gender                         0\n",
       "parental level of education    0\n",
       "test preparation course        0\n",
       "math score                     0\n",
       "reading score                  0\n",
       "writing score                  0\n",
       "total_score                    0\n",
       "avg_score                      0\n",
       "dtype: int64"
      ]
     },
     "execution_count": 55,
     "metadata": {},
     "output_type": "execute_result"
    }
   ],
   "source": [
    "### 2.2 Missing values\n",
    "\n",
    "df.isnull().sum()"
   ]
  },
  {
   "cell_type": "code",
   "execution_count": 56,
   "id": "d882833f-b9d9-4780-b8a5-79f68ff97a6a",
   "metadata": {},
   "outputs": [
    {
     "name": "stdout",
     "output_type": "stream",
     "text": [
      "Any duplicates?: False\n",
      "Number of duplicates: 0\n"
     ]
    },
    {
     "data": {
      "text/html": [
       "<div>\n",
       "<style scoped>\n",
       "    .dataframe tbody tr th:only-of-type {\n",
       "        vertical-align: middle;\n",
       "    }\n",
       "\n",
       "    .dataframe tbody tr th {\n",
       "        vertical-align: top;\n",
       "    }\n",
       "\n",
       "    .dataframe thead th {\n",
       "        text-align: right;\n",
       "    }\n",
       "</style>\n",
       "<table border=\"1\" class=\"dataframe\">\n",
       "  <thead>\n",
       "    <tr style=\"text-align: right;\">\n",
       "      <th></th>\n",
       "      <th>gender</th>\n",
       "      <th>parental level of education</th>\n",
       "      <th>test preparation course</th>\n",
       "      <th>math score</th>\n",
       "      <th>reading score</th>\n",
       "      <th>writing score</th>\n",
       "      <th>total_score</th>\n",
       "      <th>avg_score</th>\n",
       "    </tr>\n",
       "  </thead>\n",
       "  <tbody>\n",
       "    <tr>\n",
       "      <th>0</th>\n",
       "      <td>female</td>\n",
       "      <td>bachelor's degree</td>\n",
       "      <td>none</td>\n",
       "      <td>72</td>\n",
       "      <td>72</td>\n",
       "      <td>74</td>\n",
       "      <td>218</td>\n",
       "      <td>72.666667</td>\n",
       "    </tr>\n",
       "    <tr>\n",
       "      <th>1</th>\n",
       "      <td>female</td>\n",
       "      <td>some college</td>\n",
       "      <td>completed</td>\n",
       "      <td>69</td>\n",
       "      <td>90</td>\n",
       "      <td>88</td>\n",
       "      <td>247</td>\n",
       "      <td>82.333333</td>\n",
       "    </tr>\n",
       "    <tr>\n",
       "      <th>2</th>\n",
       "      <td>female</td>\n",
       "      <td>master's degree</td>\n",
       "      <td>none</td>\n",
       "      <td>90</td>\n",
       "      <td>95</td>\n",
       "      <td>93</td>\n",
       "      <td>278</td>\n",
       "      <td>92.666667</td>\n",
       "    </tr>\n",
       "    <tr>\n",
       "      <th>3</th>\n",
       "      <td>male</td>\n",
       "      <td>associate's degree</td>\n",
       "      <td>none</td>\n",
       "      <td>47</td>\n",
       "      <td>57</td>\n",
       "      <td>44</td>\n",
       "      <td>148</td>\n",
       "      <td>49.333333</td>\n",
       "    </tr>\n",
       "    <tr>\n",
       "      <th>4</th>\n",
       "      <td>male</td>\n",
       "      <td>some college</td>\n",
       "      <td>none</td>\n",
       "      <td>76</td>\n",
       "      <td>78</td>\n",
       "      <td>75</td>\n",
       "      <td>229</td>\n",
       "      <td>76.333333</td>\n",
       "    </tr>\n",
       "  </tbody>\n",
       "</table>\n",
       "</div>"
      ],
      "text/plain": [
       "   gender parental level of education test preparation course  math score  \\\n",
       "0  female           bachelor's degree                    none          72   \n",
       "1  female                some college               completed          69   \n",
       "2  female             master's degree                    none          90   \n",
       "3    male          associate's degree                    none          47   \n",
       "4    male                some college                    none          76   \n",
       "\n",
       "   reading score  writing score  total_score  avg_score  \n",
       "0             72             74          218  72.666667  \n",
       "1             90             88          247  82.333333  \n",
       "2             95             93          278  92.666667  \n",
       "3             57             44          148  49.333333  \n",
       "4             78             75          229  76.333333  "
      ]
     },
     "execution_count": 56,
     "metadata": {},
     "output_type": "execute_result"
    }
   ],
   "source": [
    "### 2.3 Duplicates\n",
    "\n",
    "print(\"Any duplicates?:\", df.duplicated().any())\n",
    "print(\"Number of duplicates:\", df.duplicated().sum())\n",
    "df = df.drop_duplicates()\n",
    "\n",
    "df.head()"
   ]
  },
  {
   "cell_type": "code",
   "execution_count": 57,
   "id": "e8d2f7b7-69eb-4c8f-a208-a513425f69cd",
   "metadata": {},
   "outputs": [
    {
     "name": "stdout",
     "output_type": "stream",
     "text": [
      "gender                          object\n",
      "parental level of education     object\n",
      "test preparation course         object\n",
      "math score                       int64\n",
      "reading score                    int64\n",
      "writing score                    int64\n",
      "total_score                      int64\n",
      "avg_score                      float64\n",
      "dtype: object\n"
     ]
    }
   ],
   "source": [
    "### 2.4 Check data types\n",
    "\n",
    "print(df.dtypes)"
   ]
  },
  {
   "cell_type": "code",
   "execution_count": 58,
   "id": "cf0e0468-0398-4545-94af-f61e27c808c2",
   "metadata": {},
   "outputs": [
    {
     "name": "stdout",
     "output_type": "stream",
     "text": [
      "Unique values in gender: ['female' 'male']\n",
      "Unique values in test preparation course: ['none' 'completed']\n",
      "Unique values in parental level of education: [\"bachelor's degree\" 'some college' \"master's degree\" \"associate's degree\"\n",
      " 'high school' 'some high school']\n"
     ]
    }
   ],
   "source": [
    "### 2.5 Check categorical variables for inconsistent inputs\n",
    "\n",
    "print(\"Unique values in gender:\", df['gender'].unique())\n",
    "print(\"Unique values in test preparation course:\", df['test preparation course'].unique())\n",
    "print(\"Unique values in parental level of education:\", df['parental level of education'].unique())"
   ]
  },
  {
   "cell_type": "code",
   "execution_count": 48,
   "id": "ab7ac625-dbcd-4d12-8cd9-eaaec3ec4522",
   "metadata": {},
   "outputs": [
    {
     "name": "stdout",
     "output_type": "stream",
     "text": [
      "       math score  reading score  writing score\n",
      "count  998.000000     998.000000     998.000000\n",
      "mean    66.090180      69.156313      68.035070\n",
      "std     15.178242      14.611918      15.204186\n",
      "min      0.000000      17.000000      10.000000\n",
      "25%     57.000000      59.000000      57.250000\n",
      "50%     66.000000      70.000000      69.000000\n",
      "75%     77.000000      79.000000      79.000000\n",
      "max    100.000000     100.000000     100.000000\n",
      "Out-of-range rows: 0\n"
     ]
    },
    {
     "data": {
      "text/html": [
       "<div>\n",
       "<style scoped>\n",
       "    .dataframe tbody tr th:only-of-type {\n",
       "        vertical-align: middle;\n",
       "    }\n",
       "\n",
       "    .dataframe tbody tr th {\n",
       "        vertical-align: top;\n",
       "    }\n",
       "\n",
       "    .dataframe thead th {\n",
       "        text-align: right;\n",
       "    }\n",
       "</style>\n",
       "<table border=\"1\" class=\"dataframe\">\n",
       "  <thead>\n",
       "    <tr style=\"text-align: right;\">\n",
       "      <th></th>\n",
       "      <th>gender</th>\n",
       "      <th>parental level of education</th>\n",
       "      <th>test preparation course</th>\n",
       "      <th>math score</th>\n",
       "      <th>reading score</th>\n",
       "      <th>writing score</th>\n",
       "      <th>total_score</th>\n",
       "      <th>avg_score</th>\n",
       "    </tr>\n",
       "  </thead>\n",
       "  <tbody>\n",
       "  </tbody>\n",
       "</table>\n",
       "</div>"
      ],
      "text/plain": [
       "Empty DataFrame\n",
       "Columns: [gender, parental level of education, test preparation course, math score, reading score, writing score, total_score, avg_score]\n",
       "Index: []"
      ]
     },
     "execution_count": 48,
     "metadata": {},
     "output_type": "execute_result"
    }
   ],
   "source": [
    "### 2.6 Check numeric variables for outliers (scores are 0–100)\n",
    "\n",
    "score_cols = ['math score','reading score','writing score']\n",
    "print(df[score_cols].describe())\n",
    "\n",
    "outliers = df[(df[score_cols] < 0).any(axis=1) | (df[score_cols] > 100).any(axis=1)]\n",
    "print(\"Out-of-range rows:\", outliers.shape[0])\n",
    "\n",
    "outliers"
   ]
  },
  {
   "cell_type": "code",
   "execution_count": 47,
   "id": "b7e46aed-d6da-4d83-b17e-b4757c49eda4",
   "metadata": {},
   "outputs": [
    {
     "data": {
      "text/html": [
       "<div>\n",
       "<style scoped>\n",
       "    .dataframe tbody tr th:only-of-type {\n",
       "        vertical-align: middle;\n",
       "    }\n",
       "\n",
       "    .dataframe tbody tr th {\n",
       "        vertical-align: top;\n",
       "    }\n",
       "\n",
       "    .dataframe thead th {\n",
       "        text-align: right;\n",
       "    }\n",
       "</style>\n",
       "<table border=\"1\" class=\"dataframe\">\n",
       "  <thead>\n",
       "    <tr style=\"text-align: right;\">\n",
       "      <th></th>\n",
       "      <th>gender</th>\n",
       "      <th>parental level of education</th>\n",
       "      <th>test preparation course</th>\n",
       "      <th>math score</th>\n",
       "      <th>reading score</th>\n",
       "      <th>writing score</th>\n",
       "      <th>total_score</th>\n",
       "      <th>avg_score</th>\n",
       "    </tr>\n",
       "  </thead>\n",
       "  <tbody>\n",
       "    <tr>\n",
       "      <th>0</th>\n",
       "      <td>female</td>\n",
       "      <td>bachelor's degree</td>\n",
       "      <td>none</td>\n",
       "      <td>72</td>\n",
       "      <td>72</td>\n",
       "      <td>74</td>\n",
       "      <td>218</td>\n",
       "      <td>72.666667</td>\n",
       "    </tr>\n",
       "    <tr>\n",
       "      <th>1</th>\n",
       "      <td>female</td>\n",
       "      <td>some college</td>\n",
       "      <td>completed</td>\n",
       "      <td>69</td>\n",
       "      <td>90</td>\n",
       "      <td>88</td>\n",
       "      <td>247</td>\n",
       "      <td>82.333333</td>\n",
       "    </tr>\n",
       "    <tr>\n",
       "      <th>2</th>\n",
       "      <td>female</td>\n",
       "      <td>master's degree</td>\n",
       "      <td>none</td>\n",
       "      <td>90</td>\n",
       "      <td>95</td>\n",
       "      <td>93</td>\n",
       "      <td>278</td>\n",
       "      <td>92.666667</td>\n",
       "    </tr>\n",
       "    <tr>\n",
       "      <th>3</th>\n",
       "      <td>male</td>\n",
       "      <td>associate's degree</td>\n",
       "      <td>none</td>\n",
       "      <td>47</td>\n",
       "      <td>57</td>\n",
       "      <td>44</td>\n",
       "      <td>148</td>\n",
       "      <td>49.333333</td>\n",
       "    </tr>\n",
       "    <tr>\n",
       "      <th>4</th>\n",
       "      <td>male</td>\n",
       "      <td>some college</td>\n",
       "      <td>none</td>\n",
       "      <td>76</td>\n",
       "      <td>78</td>\n",
       "      <td>75</td>\n",
       "      <td>229</td>\n",
       "      <td>76.333333</td>\n",
       "    </tr>\n",
       "  </tbody>\n",
       "</table>\n",
       "</div>"
      ],
      "text/plain": [
       "   gender parental level of education test preparation course  math score  \\\n",
       "0  female           bachelor's degree                    none          72   \n",
       "1  female                some college               completed          69   \n",
       "2  female             master's degree                    none          90   \n",
       "3    male          associate's degree                    none          47   \n",
       "4    male                some college                    none          76   \n",
       "\n",
       "   reading score  writing score  total_score  avg_score  \n",
       "0             72             74          218  72.666667  \n",
       "1             90             88          247  82.333333  \n",
       "2             95             93          278  92.666667  \n",
       "3             57             44          148  49.333333  \n",
       "4             78             75          229  76.333333  "
      ]
     },
     "execution_count": 47,
     "metadata": {},
     "output_type": "execute_result"
    }
   ],
   "source": [
    "### 2.7 Add helper columns\n",
    "\n",
    "df['total_score'] = df[score_cols].sum(axis=1)\n",
    "df['avg_score'] = df[score_cols].mean(axis=1)\n",
    "\n",
    "df.head()"
   ]
  },
  {
   "cell_type": "code",
   "execution_count": null,
   "id": "398634e2-cd1f-44fd-bf6d-748406e4d3df",
   "metadata": {},
   "outputs": [],
   "source": [
    "## 3. Exploratory Data Analysis\n",
    "### 3.1 Test Preparation\n",
    "\n",
    "Question: Do students who complete the test preparation course perform better than those who do not?"
   ]
  },
  {
   "cell_type": "code",
   "execution_count": 36,
   "id": "ab7ded1f-d5d1-4c30-8adf-9e857c3b58b7",
   "metadata": {},
   "outputs": [
    {
     "data": {
      "text/html": [
       "<div>\n",
       "<style scoped>\n",
       "    .dataframe tbody tr th:only-of-type {\n",
       "        vertical-align: middle;\n",
       "    }\n",
       "\n",
       "    .dataframe tbody tr th {\n",
       "        vertical-align: top;\n",
       "    }\n",
       "\n",
       "    .dataframe thead th {\n",
       "        text-align: right;\n",
       "    }\n",
       "</style>\n",
       "<table border=\"1\" class=\"dataframe\">\n",
       "  <thead>\n",
       "    <tr style=\"text-align: right;\">\n",
       "      <th></th>\n",
       "      <th>math score</th>\n",
       "      <th>reading score</th>\n",
       "      <th>writing score</th>\n",
       "      <th>avg_score</th>\n",
       "    </tr>\n",
       "    <tr>\n",
       "      <th>test preparation course</th>\n",
       "      <th></th>\n",
       "      <th></th>\n",
       "      <th></th>\n",
       "      <th></th>\n",
       "    </tr>\n",
       "  </thead>\n",
       "  <tbody>\n",
       "    <tr>\n",
       "      <th>completed</th>\n",
       "      <td>69.705882</td>\n",
       "      <td>73.893557</td>\n",
       "      <td>74.40056</td>\n",
       "      <td>72.666667</td>\n",
       "    </tr>\n",
       "    <tr>\n",
       "      <th>none</th>\n",
       "      <td>64.076443</td>\n",
       "      <td>66.517941</td>\n",
       "      <td>64.48986</td>\n",
       "      <td>65.028081</td>\n",
       "    </tr>\n",
       "  </tbody>\n",
       "</table>\n",
       "</div>"
      ],
      "text/plain": [
       "                         math score  reading score  writing score  avg_score\n",
       "test preparation course                                                     \n",
       "completed                 69.705882      73.893557       74.40056  72.666667\n",
       "none                      64.076443      66.517941       64.48986  65.028081"
      ]
     },
     "execution_count": 36,
     "metadata": {},
     "output_type": "execute_result"
    }
   ],
   "source": [
    "test_prep = df.groupby('test preparation course')[['math score','reading score','writing score','avg_score']].mean()\n",
    "test_prep"
   ]
  },
  {
   "cell_type": "code",
   "execution_count": 37,
   "id": "c825a099-bb92-4db2-a904-b0643994a2fa",
   "metadata": {},
   "outputs": [
    {
     "data": {
      "image/png": "[encoded data removed]",
      "text/plain": [
       "<Figure size 640x480 with 1 Axes>"
      ]
     },
     "metadata": {},
     "output_type": "display_data"
    }
   ],
   "source": [
    "test_prep['avg_score'].plot(kind='bar')\n",
    "\n",
    "plt.title(\"Average Score by Test Preparation Course\")\n",
    "plt.xlabel(\"Test Preparation Course\")\n",
    "plt.ylabel(\"Average Score\")\n",
    "plt.show()"
   ]
  },
  {
   "cell_type": "code",
   "execution_count": null,
   "id": "5b7f8868-2f74-4d0e-8c26-e4e3189692bd",
   "metadata": {},
   "outputs": [],
   "source": [
    "Interpretation:  \n",
    "- Students who completed the test preparation course scored higher on average than those who did not.  \n",
    "- This suggests that test preparation may have a positive impact on performance.  "
   ]
  },
  {
   "cell_type": "code",
   "execution_count": null,
   "id": "6542e5fa-8180-46e2-a963-766b2e96846a",
   "metadata": {},
   "outputs": [],
   "source": [
    "### 3.2 Gender\n",
    "\n",
    "Question: Are there differences in performance between male and female students across math, reading, and writing?"
   ]
  },
  {
   "cell_type": "code",
   "execution_count": 33,
   "id": "c95bc3f1-2189-4040-8f96-6bd3edff9d7c",
   "metadata": {},
   "outputs": [
    {
     "data": {
      "text/html": [
       "<div>\n",
       "<style scoped>\n",
       "    .dataframe tbody tr th:only-of-type {\n",
       "        vertical-align: middle;\n",
       "    }\n",
       "\n",
       "    .dataframe tbody tr th {\n",
       "        vertical-align: top;\n",
       "    }\n",
       "\n",
       "    .dataframe thead th {\n",
       "        text-align: right;\n",
       "    }\n",
       "</style>\n",
       "<table border=\"1\" class=\"dataframe\">\n",
       "  <thead>\n",
       "    <tr style=\"text-align: right;\">\n",
       "      <th></th>\n",
       "      <th>math score</th>\n",
       "      <th>reading score</th>\n",
       "      <th>writing score</th>\n",
       "    </tr>\n",
       "    <tr>\n",
       "      <th>gender</th>\n",
       "      <th></th>\n",
       "      <th></th>\n",
       "      <th></th>\n",
       "    </tr>\n",
       "  </thead>\n",
       "  <tbody>\n",
       "    <tr>\n",
       "      <th>female</th>\n",
       "      <td>63.625969</td>\n",
       "      <td>72.596899</td>\n",
       "      <td>72.447674</td>\n",
       "    </tr>\n",
       "    <tr>\n",
       "      <th>male</th>\n",
       "      <td>68.728216</td>\n",
       "      <td>65.473029</td>\n",
       "      <td>63.311203</td>\n",
       "    </tr>\n",
       "  </tbody>\n",
       "</table>\n",
       "</div>"
      ],
      "text/plain": [
       "        math score  reading score  writing score\n",
       "gender                                          \n",
       "female   63.625969      72.596899      72.447674\n",
       "male     68.728216      65.473029      63.311203"
      ]
     },
     "execution_count": 33,
     "metadata": {},
     "output_type": "execute_result"
    }
   ],
   "source": [
    "gender = df.groupby('gender')[['math score','reading score','writing score']].mean()\n",
    "gender"
   ]
  },
  {
   "cell_type": "code",
   "execution_count": 35,
   "id": "1c940fdc-e156-4d4a-b278-d8a13da65a29",
   "metadata": {},
   "outputs": [
    {
     "data": {
      "image/png": "[encoded data removed]",
      "text/plain": [
       "<Figure size 640x480 with 1 Axes>"
      ]
     },
     "metadata": {},
     "output_type": "display_data"
    }
   ],
   "source": [
    "gender.plot(kind='bar')\n",
    "\n",
    "plt.title(\"Average Scores by Gender\")\n",
    "plt.xlabel(\"Gender\")\n",
    "plt.ylabel(\"Average Score\")\n",
    "plt.show()"
   ]
  },
  {
   "cell_type": "code",
   "execution_count": null,
   "id": "0287a572-ed79-4152-8b06-40aa1371633a",
   "metadata": {},
   "outputs": [],
   "source": [
    "Interpretation:\n",
    "- The bar chart shows that on average, males score higher in math.  \n",
    "- Females score higher in reading and writing.  \n",
    "- This indicates some differences in performance between genders across the three subjects. "
   ]
  },
  {
   "cell_type": "code",
   "execution_count": null,
   "id": "310e51f7-1fb5-4e7e-b736-550cb02c8045",
   "metadata": {},
   "outputs": [],
   "source": [
    "### 3.3 Parental Level of Education vs Performance\n",
    "\n",
    "Question: How does parental level of education relate to student performance?"
   ]
  },
  {
   "cell_type": "code",
   "execution_count": 38,
   "id": "b62a0c3c-6ae0-42cf-8afd-ab00f4104e12",
   "metadata": {},
   "outputs": [
    {
     "data": {
      "text/html": [
       "<div>\n",
       "<style scoped>\n",
       "    .dataframe tbody tr th:only-of-type {\n",
       "        vertical-align: middle;\n",
       "    }\n",
       "\n",
       "    .dataframe tbody tr th {\n",
       "        vertical-align: top;\n",
       "    }\n",
       "\n",
       "    .dataframe thead th {\n",
       "        text-align: right;\n",
       "    }\n",
       "</style>\n",
       "<table border=\"1\" class=\"dataframe\">\n",
       "  <thead>\n",
       "    <tr style=\"text-align: right;\">\n",
       "      <th></th>\n",
       "      <th>math score</th>\n",
       "      <th>reading score</th>\n",
       "      <th>writing score</th>\n",
       "      <th>avg_score</th>\n",
       "    </tr>\n",
       "    <tr>\n",
       "      <th>parental level of education</th>\n",
       "      <th></th>\n",
       "      <th></th>\n",
       "      <th></th>\n",
       "      <th></th>\n",
       "    </tr>\n",
       "  </thead>\n",
       "  <tbody>\n",
       "    <tr>\n",
       "      <th>associate's degree</th>\n",
       "      <td>67.895928</td>\n",
       "      <td>70.900452</td>\n",
       "      <td>69.877828</td>\n",
       "      <td>69.558069</td>\n",
       "    </tr>\n",
       "    <tr>\n",
       "      <th>bachelor's degree</th>\n",
       "      <td>69.418803</td>\n",
       "      <td>72.991453</td>\n",
       "      <td>73.316239</td>\n",
       "      <td>71.908832</td>\n",
       "    </tr>\n",
       "    <tr>\n",
       "      <th>high school</th>\n",
       "      <td>62.137755</td>\n",
       "      <td>64.704082</td>\n",
       "      <td>62.448980</td>\n",
       "      <td>63.096939</td>\n",
       "    </tr>\n",
       "    <tr>\n",
       "      <th>master's degree</th>\n",
       "      <td>69.745763</td>\n",
       "      <td>75.372881</td>\n",
       "      <td>75.677966</td>\n",
       "      <td>73.598870</td>\n",
       "    </tr>\n",
       "    <tr>\n",
       "      <th>some college</th>\n",
       "      <td>67.128319</td>\n",
       "      <td>69.460177</td>\n",
       "      <td>68.840708</td>\n",
       "      <td>68.476401</td>\n",
       "    </tr>\n",
       "    <tr>\n",
       "      <th>some high school</th>\n",
       "      <td>63.497207</td>\n",
       "      <td>66.938547</td>\n",
       "      <td>64.888268</td>\n",
       "      <td>65.108007</td>\n",
       "    </tr>\n",
       "  </tbody>\n",
       "</table>\n",
       "</div>"
      ],
      "text/plain": [
       "                             math score  reading score  writing score  \\\n",
       "parental level of education                                             \n",
       "associate's degree            67.895928      70.900452      69.877828   \n",
       "bachelor's degree             69.418803      72.991453      73.316239   \n",
       "high school                   62.137755      64.704082      62.448980   \n",
       "master's degree               69.745763      75.372881      75.677966   \n",
       "some college                  67.128319      69.460177      68.840708   \n",
       "some high school              63.497207      66.938547      64.888268   \n",
       "\n",
       "                             avg_score  \n",
       "parental level of education             \n",
       "associate's degree           69.558069  \n",
       "bachelor's degree            71.908832  \n",
       "high school                  63.096939  \n",
       "master's degree              73.598870  \n",
       "some college                 68.476401  \n",
       "some high school             65.108007  "
      ]
     },
     "execution_count": 38,
     "metadata": {},
     "output_type": "execute_result"
    }
   ],
   "source": [
    "parent_edu = df.groupby('parental level of education')[['math score','reading score','writing score','avg_score']].mean()\n",
    "parent_edu"
   ]
  },
  {
   "cell_type": "code",
   "execution_count": 40,
   "id": "4f912323-c93c-4426-b931-2fc0b532f8f9",
   "metadata": {},
   "outputs": [
    {
     "data": {
      "image/png": "[encoded data removed]",
      "text/plain": [
       "<Figure size 640x480 with 1 Axes>"
      ]
     },
     "metadata": {},
     "output_type": "display_data"
    }
   ],
   "source": [
    "parent_edu['avg_score'].plot(kind='bar')\n",
    "\n",
    "plt.title(\"Average Score by Parental Level of Education\")\n",
    "plt.xlabel(\"Parental Level of Education\")\n",
    "plt.ylabel(\"Average Score\")\n",
    "plt.xticks(rotation=90)\n",
    "plt.show()"
   ]
  },
  {
   "cell_type": "code",
   "execution_count": null,
   "id": "e7d4f7ec-c4ba-436d-8145-372c44560b56",
   "metadata": {},
   "outputs": [],
   "source": [
    "Interpretation: \n",
    "- The bar chart shows that students with parents who completed higher levels of education (college, master’s degree) tend to score higher on average.  \n",
    "- Students whose parents only completed high school or some college have lower average scores.  \n",
    "- This suggests that parental education level may have an influence on student performance.  "
   ]
  },
  {
   "cell_type": "code",
   "execution_count": null,
   "id": "02c5713f-854f-430a-943b-72d58dd89922",
   "metadata": {},
   "outputs": [],
   "source": [
    "## 4. Summary \n",
    "\n",
    "Key Findings:  \n",
    "- Test preparation improves performance.  \n",
    "- Gender differences exist: males excel in math, females in reading and writing.  \n",
    "- Higher parental education is linked to better student scores.  \n",
    "\n",
    "What I Failed to Find: \n",
    "- I could not analyze other factors such as lunch type or race/ethnicity since they were dropped.  \n",
    "\n",
    "Next Steps: \n",
    "- Explore more datasets with additional features.  \n",
    "- Try more visualization methods (histograms, stacked bars).  \n",
    "- Apply statistical tests to check significance of differences. "
   ]
  }
 ],
 "metadata": {
  "kernelspec": {
   "display_name": "Python 3 (ipykernel)",
   "language": "python",
   "name": "python3"
  },
  "language_info": {
   "codemirror_mode": {
    "name": "ipython",
    "version": 3
   },
   "file_extension": ".py",
   "mimetype": "text/x-python",
   "name": "python",
   "nbconvert_exporter": "python",
   "pygments_lexer": "ipython3",
   "version": "3.13.3"
  }
 },
 "nbformat": 4,
 "nbformat_minor": 5
}
